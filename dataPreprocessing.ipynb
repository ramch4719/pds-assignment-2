{
  "cells": [
    {
      "cell_type": "code",
      "source": [
        "from google.colab import drive\n",
        "\n",
        "drive.mount('/content/drive')\n"
      ],
      "metadata": {
        "colab": {
          "base_uri": "https://localhost:8080/"
        },
        "id": "UkmGm-ZAwhYm",
        "outputId": "76c54e56-2d82-4d64-dfbf-4f06996e383b"
      },
      "id": "UkmGm-ZAwhYm",
      "execution_count": 11,
      "outputs": [
        {
          "output_type": "stream",
          "name": "stdout",
          "text": [
            "Drive already mounted at /content/drive; to attempt to forcibly remount, call drive.mount(\"/content/drive\", force_remount=True).\n"
          ]
        }
      ]
    },
    {
      "cell_type": "code",
      "execution_count": 16,
      "id": "3c367ffe",
      "metadata": {
        "colab": {
          "base_uri": "https://localhost:8080/"
        },
        "id": "3c367ffe",
        "outputId": "3665c944-cd20-4bb5-bdb3-403b24fcdb25"
      },
      "outputs": [
        {
          "output_type": "stream",
          "name": "stdout",
          "text": [
            "   Unnamed: 0                              Name    Location  Year  \\\n",
            "0           1  Hyundai Creta 1.6 CRDi SX Option        Pune  2015   \n",
            "1           2                      Honda Jazz V     Chennai  2011   \n",
            "2           3                 Maruti Ertiga VDI     Chennai  2012   \n",
            "3           4   Audi A4 New 2.0 TDI Multitronic  Coimbatore  2013   \n",
            "4           6            Nissan Micra Diesel XV      Jaipur  2013   \n",
            "\n",
            "   Kilometers_Driven Owner_Type  Mileage  Engine   Power  Seats  Price  \\\n",
            "0              41000      First    19.67  1582.0  126.20    5.0  12.50   \n",
            "1              46000      First    18.19  1199.0   88.70    5.0   4.50   \n",
            "2              87000      First    20.77  1248.0   88.76    7.0   6.00   \n",
            "3              40670     Second    15.20  1968.0  140.80    5.0  17.74   \n",
            "4              86999      First    23.08  1461.0   63.10    5.0   3.50   \n",
            "\n",
            "   Fuel_Type_Diesel  Fuel_Type_Electric  Fuel_Type_Petrol  \\\n",
            "0                 1                   0                 0   \n",
            "1                 0                   0                 1   \n",
            "2                 1                   0                 0   \n",
            "3                 1                   0                 0   \n",
            "4                 1                   0                 0   \n",
            "\n",
            "   Transmission_Automatic  Transmission_Manual  Current_Age  \n",
            "0                       0                    1            8  \n",
            "1                       0                    1           12  \n",
            "2                       0                    1           11  \n",
            "3                       1                    0           10  \n",
            "4                       0                    1           10  \n"
          ]
        }
      ],
      "source": [
        "\n",
        "import pandas as pd\n",
        "import datetime\n",
        "import re\n",
        "import shutil\n",
        "\n",
        "# Reading the file from Google Drive and loading the dataset\n",
        "file_path = '/content/drive/My Drive/Colab Notebooks/train.csv'\n",
        "data = pd.read_csv(file_path)\n",
        "\n",
        "def extract_numeric_value(text):\n",
        "    if pd.notna(text):\n",
        "        matches = re.findall(r'(\\d+\\.\\d+|\\d+)', str(text))\n",
        "        if matches:\n",
        "            return float(matches[0])\n",
        "    return None\n",
        "\n",
        "\n",
        "#Task :1\n",
        "# Check for missing values in each column\n",
        "missing_values = data.isnull().sum()\n",
        "\n",
        "#We have the option to either remove columns that contain a substantial amount of missing data or fill in these missing values.\n",
        "#For instance, if the column 'New_Price' contains an excessive number of missing values, one possible approach is to eliminate this column from the dataset\n",
        "data.drop(columns=[\"New_Price\"], inplace=True)\n",
        "\n",
        "#For remaining columns that have missing values, consider filling those gaps by replacing them with the average or middle value, such as the mean or median.\n",
        "data['Mileage'] = data['Mileage'].str.extract('(\\d+\\.\\d+)').astype(float)\n",
        "data['Engine'] = data['Engine'].str.extract('(\\d+)').astype(float)\n",
        "data['Power'] = data['Power'].str.extract('(\\d+\\.\\d+)').astype(float)\n",
        "\n",
        "\n",
        "# Impute missing values with the mean or median\n",
        "data['Mileage'].fillna(data['Mileage'].median(), inplace=True)\n",
        "data['Engine'].fillna(data['Engine'].median(), inplace=True)\n",
        "data['Power'].fillna(data['Power'].median(), inplace=True)\n",
        "data[\"Seats\"].fillna(data[\"Seats\"].median(), inplace=True)\n",
        "\n",
        "\n",
        "#Task:2\n",
        "#Remove the units from some of the attributes and only keep the numerical values (for example remove kmpl from “Mileage”, CC from “Engine”, bhp from “Power”, and lakh from “New_price”)\n",
        "\n",
        "data[\"Mileage\"] = data[\"Mileage\"].apply(extract_numeric_value)\n",
        "data[\"Engine\"] = data[\"Engine\"].apply(extract_numeric_value)\n",
        "data[\"Power\"] = data[\"Power\"].apply(extract_numeric_value)\n",
        "\n",
        "\n",
        "#Task :3\n",
        "# Change the categorical variables (“Fuel_Type” and “Transmission”) into numerical one hot encoded value\n",
        "\n",
        "data = pd.get_dummies(data, columns=[\"Fuel_Type\", \"Transmission\"])\n",
        "\n",
        "\n",
        "\n",
        "#Task:4\n",
        "#Create one more feature and add this column to the dataset (you can use mutate function in R for this). For example, you can calculate the current age of the car by subtracting “Year” value from the current year.\n",
        "\n",
        "current_year = datetime.datetime.now().year\n",
        "data['Current_Age'] = current_year - data['Year']\n",
        "\n",
        "# Display the modified dataset\n",
        "print(data.head())\n",
        "\n",
        "\n",
        "# Save the DataFrame 'data' to a CSV file in Google Drive\n",
        "data.to_csv('/content/drive/My Drive/Colab Notebooks/cars_data_updated.csv', index=False)\n",
        "\n"
      ]
    }
  ],
  "metadata": {
    "kernelspec": {
      "display_name": "Python 3 (ipykernel)",
      "language": "python",
      "name": "python3"
    },
    "language_info": {
      "codemirror_mode": {
        "name": "ipython",
        "version": 3
      },
      "file_extension": ".py",
      "mimetype": "text/x-python",
      "name": "python",
      "nbconvert_exporter": "python",
      "pygments_lexer": "ipython3",
      "version": "3.11.4"
    },
    "colab": {
      "provenance": [],
      "toc_visible": true
    }
  },
  "nbformat": 4,
  "nbformat_minor": 5
}